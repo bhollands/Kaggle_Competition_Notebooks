{
 "cells": [
  {
   "cell_type": "code",
   "execution_count": 1,
   "id": "c53de506",
   "metadata": {
    "execution": {
     "iopub.execute_input": "2021-11-19T21:52:47.692566Z",
     "iopub.status.busy": "2021-11-19T21:52:47.691800Z",
     "iopub.status.idle": "2021-11-19T21:53:58.974385Z",
     "shell.execute_reply": "2021-11-19T21:53:58.973374Z",
     "shell.execute_reply.started": "2021-11-19T21:42:55.222133Z"
    },
    "papermill": {
     "duration": 71.304998,
     "end_time": "2021-11-19T21:53:58.974550",
     "exception": false,
     "start_time": "2021-11-19T21:52:47.669552",
     "status": "completed"
    },
    "tags": []
   },
   "outputs": [],
   "source": [
    "import pandas as pd\n",
    "import numpy as np\n",
    "import gresearch_crypto\n",
    "import xgboost as xgb\n",
    "import traceback\n",
    "import datetime\n",
    "\n",
    "\n",
    "TRAIN_CSV = '/kaggle/input/g-research-crypto-forecasting/train.csv'\n",
    "ASSET_DETAILS_CSV = '/kaggle/input/g-research-crypto-forecasting/asset_details.csv'\n",
    "\n",
    "df = pd.read_csv(TRAIN_CSV)\n",
    "df_asset_details = pd.read_csv(ASSET_DETAILS_CSV).sort_values(\"Asset_ID\")\n",
    "\n",
    "asset_to_weight = df_asset_details.Weight.values\n",
    "df[\"Weight\"] = df[\"Asset_ID\"].apply(lambda x: asset_to_weight[x])"
   ]
  },
  {
   "cell_type": "code",
   "execution_count": 2,
   "id": "d4cbd938",
   "metadata": {
    "execution": {
     "iopub.execute_input": "2021-11-19T21:53:58.999248Z",
     "iopub.status.busy": "2021-11-19T21:53:58.997991Z",
     "iopub.status.idle": "2021-11-19T21:54:06.172975Z",
     "shell.execute_reply": "2021-11-19T21:54:06.172504Z",
     "shell.execute_reply.started": "2021-11-19T21:44:26.535913Z"
    },
    "papermill": {
     "duration": 7.190576,
     "end_time": "2021-11-19T21:54:06.173128",
     "exception": false,
     "start_time": "2021-11-19T21:53:58.982552",
     "status": "completed"
    },
    "tags": []
   },
   "outputs": [],
   "source": [
    "def clean(df):\n",
    "    df.replace([np.inf, -np.inf], np.nan, inplace=True)\n",
    "    df = df.dropna(how=\"any\", inplace=True)\n",
    "\n",
    "def test_train_split(df):\n",
    "    X_train = df[df['timestamp'] <= 1623542400].drop('Target', axis=1)\n",
    "    y_train = df[df['timestamp'] <= 1623542400].Target\n",
    "    X_test = df[df['timestamp'] > 1623542400].iloc[:-1].drop('Target', axis=1)\n",
    "    y_test = df[df['timestamp'] > 1623542400].iloc[:-1].Target\n",
    "    return X_train, y_train, X_test, y_test\n",
    "\n",
    "clean(df)\n",
    "X_train, y_train, X_test, y_test = test_train_split(df)"
   ]
  },
  {
   "cell_type": "code",
   "execution_count": 3,
   "id": "2f3e805f",
   "metadata": {
    "execution": {
     "iopub.execute_input": "2021-11-19T21:54:06.194995Z",
     "iopub.status.busy": "2021-11-19T21:54:06.193729Z",
     "iopub.status.idle": "2021-11-19T21:54:07.613937Z",
     "shell.execute_reply": "2021-11-19T21:54:07.613453Z",
     "shell.execute_reply.started": "2021-11-19T21:44:42.821508Z"
    },
    "papermill": {
     "duration": 1.433831,
     "end_time": "2021-11-19T21:54:07.614065",
     "exception": false,
     "start_time": "2021-11-19T21:54:06.180234",
     "status": "completed"
    },
    "tags": []
   },
   "outputs": [],
   "source": [
    "def process(df):\n",
    "    df[\"Unity\"] = 1\n",
    "    df['log_ret'] = np.log(df.Close/df.Open).fillna(0)\n",
    "    df['weird_feature'] = -(df['log_ret'] - (df['Weight'] * df['log_ret']).sum() / df['Weight'].sum())\n",
    "    \n",
    "    norm_cols = ['Open','VWAP']\n",
    "    ref = \"Close\"\n",
    "    for col in norm_cols:\n",
    "        df[\"norm_\" + col] = df[col] / df[ref]\n",
    "    \n",
    "    return df\n",
    "    #return pd.concat([df, time_lag(df[[\"VWAP\", \"Volume\", \"Open\", \"Close\"]], n_in=1, n_out=0, dropnan=False, interpolate=True)], axis=1)\n",
    "\n",
    "X_train = process(X_train)\n",
    "X_test = process(X_test)"
   ]
  },
  {
   "cell_type": "code",
   "execution_count": 4,
   "id": "2d174c14",
   "metadata": {
    "execution": {
     "iopub.execute_input": "2021-11-19T21:54:07.634722Z",
     "iopub.status.busy": "2021-11-19T21:54:07.633924Z",
     "iopub.status.idle": "2021-11-19T21:54:07.636446Z",
     "shell.execute_reply": "2021-11-19T21:54:07.635981Z",
     "shell.execute_reply.started": "2021-11-19T21:44:50.333438Z"
    },
    "papermill": {
     "duration": 0.015444,
     "end_time": "2021-11-19T21:54:07.636565",
     "exception": false,
     "start_time": "2021-11-19T21:54:07.621121",
     "status": "completed"
    },
    "tags": []
   },
   "outputs": [],
   "source": [
    "from sklearn.preprocessing import StandardScaler\n",
    "\n",
    "\n",
    "class BestModel:\n",
    "    def __init__(self):\n",
    "        self.beta = None\n",
    "        self.scaler = StandardScaler()\n",
    "    \n",
    "    def fit(self, X_train, y_train):\n",
    "        #self.scaler.fit(X_train)\n",
    "        #X = self.scaler.transform(X_train)\n",
    "        X = X_train.values\n",
    "        mat = X.T@X\n",
    "        self.beta = np.linalg.inv(mat)@X.T@y_train.values\n",
    "        \n",
    "    def predict(self, X_test):\n",
    "        #X = self.scaler.transform(X_test)\n",
    "        X = X_test.values\n",
    "        return X@self.beta"
   ]
  },
  {
   "cell_type": "code",
   "execution_count": 5,
   "id": "4e352870",
   "metadata": {
    "execution": {
     "iopub.execute_input": "2021-11-19T21:54:07.656785Z",
     "iopub.status.busy": "2021-11-19T21:54:07.655205Z",
     "iopub.status.idle": "2021-11-19T21:54:07.659236Z",
     "shell.execute_reply": "2021-11-19T21:54:07.658600Z",
     "shell.execute_reply.started": "2021-11-19T21:44:53.469647Z"
    },
    "papermill": {
     "duration": 0.016068,
     "end_time": "2021-11-19T21:54:07.659379",
     "exception": false,
     "start_time": "2021-11-19T21:54:07.643311",
     "status": "completed"
    },
    "tags": []
   },
   "outputs": [
    {
     "name": "stdout",
     "output_type": "stream",
     "text": [
      "Index(['timestamp', 'Asset_ID', 'Count', 'Open', 'High', 'Low', 'Close',\n",
      "       'Volume', 'VWAP', 'Weight', 'Unity', 'log_ret', 'weird_feature',\n",
      "       'norm_Open', 'norm_VWAP'],\n",
      "      dtype='object')\n"
     ]
    }
   ],
   "source": [
    "features = [\"Count\", \"norm_Open\", \"Open\", \"Close\", \"Volume\", \"norm_VWAP\", \"VWAP\", \"Unity\", 'weird_feature']\n",
    "print(X_train.columns)"
   ]
  },
  {
   "cell_type": "code",
   "execution_count": 6,
   "id": "85e626e1",
   "metadata": {
    "execution": {
     "iopub.execute_input": "2021-11-19T21:54:07.689242Z",
     "iopub.status.busy": "2021-11-19T21:54:07.682312Z",
     "iopub.status.idle": "2021-11-19T21:54:21.946405Z",
     "shell.execute_reply": "2021-11-19T21:54:21.945668Z",
     "shell.execute_reply.started": "2021-11-19T21:44:55.896595Z"
    },
    "papermill": {
     "duration": 14.278248,
     "end_time": "2021-11-19T21:54:21.946611",
     "exception": false,
     "start_time": "2021-11-19T21:54:07.668363",
     "status": "completed"
    },
    "tags": []
   },
   "outputs": [
    {
     "name": "stdout",
     "output_type": "stream",
     "text": [
      "Trained model for asset 0\n",
      "Trained model for asset 1\n",
      "Trained model for asset 2\n",
      "Trained model for asset 3\n",
      "Trained model for asset 4\n",
      "Trained model for asset 5\n",
      "Trained model for asset 6\n",
      "Trained model for asset 7\n",
      "Trained model for asset 8\n",
      "Trained model for asset 9\n",
      "Trained model for asset 10\n",
      "Trained model for asset 11\n",
      "Trained model for asset 12\n",
      "Trained model for asset 13\n"
     ]
    }
   ],
   "source": [
    "models = [BestModel() for _ in range(len(df_asset_details))]\n",
    "\n",
    "y_pred = pd.Series(data=np.full_like(y_test.values, np.nan), index=y_test.index)\n",
    "for asset_ID, model in enumerate(models):\n",
    "    X_asset_train = X_train[X_train.Asset_ID == asset_ID]\n",
    "    y_asset_train = y_train[X_train.Asset_ID == asset_ID]\n",
    "    X_asset_test = X_test[X_test.Asset_ID == asset_ID]\n",
    "    \n",
    "    model.fit(X_asset_train[features], y_asset_train)\n",
    "    y_pred[X_test.Asset_ID == asset_ID] = model.predict(X_asset_test[features])\n",
    "    print(f\"Trained model for asset {asset_ID}\")"
   ]
  },
  {
   "cell_type": "markdown",
   "id": "3f6cd8d9",
   "metadata": {
    "execution": {
     "iopub.status.busy": "2021-11-02T20:57:49.349459Z",
     "iopub.status.idle": "2021-11-02T20:57:49.349757Z",
     "shell.execute_reply": "2021-11-02T20:57:49.349613Z",
     "shell.execute_reply.started": "2021-11-02T20:57:49.349596Z"
    },
    "papermill": {
     "duration": 0.020148,
     "end_time": "2021-11-19T21:54:21.986512",
     "exception": false,
     "start_time": "2021-11-19T21:54:21.966364",
     "status": "completed"
    },
    "tags": []
   },
   "source": [
    "# Predict & submit\n",
    "\n",
    "References: [Detailed API Introduction](https://www.kaggle.com/sohier/detailed-api-introduction)\n",
    "\n",
    "Something that helped me understand this iterator was adding a pdb checkpoint inside of the for loop:\n",
    "\n",
    "```python\n",
    "import pdb; pdb.set_trace()\n",
    "```\n",
    "\n",
    "See [Python Debugging With Pdb](https://realpython.com/python-debugging-pdb/) if you want to use it and you don't know how to.\n"
   ]
  },
  {
   "cell_type": "code",
   "execution_count": 7,
   "id": "fe0feeda",
   "metadata": {
    "execution": {
     "iopub.execute_input": "2021-11-19T21:54:22.029971Z",
     "iopub.status.busy": "2021-11-19T21:54:22.029018Z",
     "iopub.status.idle": "2021-11-19T21:54:22.181864Z",
     "shell.execute_reply": "2021-11-19T21:54:22.181432Z",
     "shell.execute_reply.started": "2021-11-19T21:47:00.715304Z"
    },
    "papermill": {
     "duration": 0.176038,
     "end_time": "2021-11-19T21:54:22.182018",
     "exception": false,
     "start_time": "2021-11-19T21:54:22.005980",
     "status": "completed"
    },
    "tags": []
   },
   "outputs": [
    {
     "name": "stdout",
     "output_type": "stream",
     "text": [
      "This version of the API is not optimized and should not be used to estimate the runtime of your code on the hidden test set.\n",
      "0\n",
      "1\n",
      "2\n",
      "3\n"
     ]
    }
   ],
   "source": [
    "env = gresearch_crypto.make_env()\n",
    "iter_test = env.iter_test()\n",
    "\n",
    "for i, (df_test, df_pred) in enumerate(iter_test):\n",
    "    print(i)\n",
    "    df_pred['Target'] = np.nan\n",
    "    \n",
    "    df_test[\"Weight\"] = df_test[\"Asset_ID\"].apply(lambda x: asset_to_weight[x])\n",
    "    df_test = process(df_test)\n",
    "    for asset_ID, model in enumerate(models):\n",
    "        X_asset_test = df_test[df_test.Asset_ID == asset_ID]\n",
    "        df_pred.loc[df_test.Asset_ID == asset_ID, 'Target'] = model.predict(X_asset_test[features])\n",
    "    df_pred['Target'] = df_pred['Target'].interpolate('nearest')\n",
    "    env.predict(df_pred)"
   ]
  },
  {
   "cell_type": "code",
   "execution_count": 8,
   "id": "ab397ded",
   "metadata": {
    "execution": {
     "iopub.execute_input": "2021-11-19T21:54:22.210053Z",
     "iopub.status.busy": "2021-11-19T21:54:22.209348Z",
     "iopub.status.idle": "2021-11-19T21:54:22.212395Z",
     "shell.execute_reply": "2021-11-19T21:54:22.212976Z",
     "shell.execute_reply.started": "2021-11-18T11:17:39.629452Z"
    },
    "papermill": {
     "duration": 0.019207,
     "end_time": "2021-11-19T21:54:22.213150",
     "exception": false,
     "start_time": "2021-11-19T21:54:22.193943",
     "status": "completed"
    },
    "tags": []
   },
   "outputs": [
    {
     "name": "stdout",
     "output_type": "stream",
     "text": [
      "oh yes!\n"
     ]
    }
   ],
   "source": [
    "print(\"oh yes!\")"
   ]
  }
 ],
 "metadata": {
  "kernelspec": {
   "display_name": "Python 3",
   "language": "python",
   "name": "python3"
  },
  "language_info": {
   "codemirror_mode": {
    "name": "ipython",
    "version": 3
   },
   "file_extension": ".py",
   "mimetype": "text/x-python",
   "name": "python",
   "nbconvert_exporter": "python",
   "pygments_lexer": "ipython3",
   "version": "3.7.10"
  },
  "papermill": {
   "default_parameters": {},
   "duration": 103.045095,
   "end_time": "2021-11-19T21:54:22.935450",
   "environment_variables": {},
   "exception": null,
   "input_path": "__notebook__.ipynb",
   "output_path": "__notebook__.ipynb",
   "parameters": {},
   "start_time": "2021-11-19T21:52:39.890355",
   "version": "2.3.3"
  }
 },
 "nbformat": 4,
 "nbformat_minor": 5
}
